{
  "nbformat": 4,
  "nbformat_minor": 0,
  "metadata": {
    "colab": {
      "provenance": [],
      "authorship_tag": "ABX9TyOShs/vVea97LJt1rXqkMTt",
      "include_colab_link": true
    },
    "kernelspec": {
      "name": "python3",
      "display_name": "Python 3"
    },
    "language_info": {
      "name": "python"
    }
  },
  "cells": [
    {
      "cell_type": "markdown",
      "metadata": {
        "id": "view-in-github",
        "colab_type": "text"
      },
      "source": [
        "<a href=\"https://colab.research.google.com/github/RaianaSeixas/Pyspark/blob/main/GroupBy_multiple_crteria.ipynb\" target=\"_parent\"><img src=\"https://colab.research.google.com/assets/colab-badge.svg\" alt=\"Open In Colab\"/></a>"
      ]
    },
    {
      "cell_type": "code",
      "source": [
        "!pip install pyspark"
      ],
      "metadata": {
        "colab": {
          "base_uri": "https://localhost:8080/"
        },
        "id": "yjdrhPZd8YPw",
        "outputId": "3bef2b7d-6681-47df-f4ae-e7927c09193c"
      },
      "execution_count": 3,
      "outputs": [
        {
          "output_type": "stream",
          "name": "stdout",
          "text": [
            "Looking in indexes: https://pypi.org/simple, https://us-python.pkg.dev/colab-wheels/public/simple/\n",
            "Collecting pyspark\n",
            "  Downloading pyspark-3.4.0.tar.gz (310.8 MB)\n",
            "\u001b[2K     \u001b[90m━━━━━━━━━━━━━━━━━━━━━━━━━━━━━━━━━━━━━━━\u001b[0m \u001b[32m310.8/310.8 MB\u001b[0m \u001b[31m3.9 MB/s\u001b[0m eta \u001b[36m0:00:00\u001b[0m\n",
            "\u001b[?25h  Preparing metadata (setup.py) ... \u001b[?25l\u001b[?25hdone\n",
            "Requirement already satisfied: py4j==0.10.9.7 in /usr/local/lib/python3.10/dist-packages (from pyspark) (0.10.9.7)\n",
            "Building wheels for collected packages: pyspark\n",
            "  Building wheel for pyspark (setup.py) ... \u001b[?25l\u001b[?25hdone\n",
            "  Created wheel for pyspark: filename=pyspark-3.4.0-py2.py3-none-any.whl size=311317145 sha256=28bdaa5112595921b7a6ef5fd975d401ffb2253e5d870a04f9c14c3801461019\n",
            "  Stored in directory: /root/.cache/pip/wheels/7b/1b/4b/3363a1d04368e7ff0d408e57ff57966fcdf00583774e761327\n",
            "Successfully built pyspark\n",
            "Installing collected packages: pyspark\n",
            "Successfully installed pyspark-3.4.0\n"
          ]
        }
      ]
    },
    {
      "cell_type": "code",
      "execution_count": 4,
      "metadata": {
        "colab": {
          "base_uri": "https://localhost:8080/"
        },
        "id": "fiCebaKO7DlO",
        "outputId": "fc9bbc13-4830-4e07-a319-2412dcb5ead3"
      },
      "outputs": [
        {
          "output_type": "stream",
          "name": "stdout",
          "text": [
            "+-----+---------+-----------+\n",
            "| nome|categoria|total_valor|\n",
            "+-----+---------+-----------+\n",
            "|  Bob|        B|        200|\n",
            "|Alice|        A|        100|\n",
            "|  Bob|        A|        300|\n",
            "|Alice|        B|        150|\n",
            "+-----+---------+-----------+\n",
            "\n"
          ]
        }
      ],
      "source": [
        "from pyspark.sql import SparkSession\n",
        "from pyspark.sql import functions as F\n",
        "\n",
        "# Criando uma SparkSession\n",
        "spark = SparkSession.builder \\\n",
        "    .appName(\"Exemplo GroupBy\") \\\n",
        "    .getOrCreate()\n",
        "\n",
        "# Criando um DataFrame de exemplo\n",
        "data = [\n",
        "    (\"Alice\", \"A\", 100),\n",
        "    (\"Bob\", \"B\", 200),\n",
        "    (\"Alice\", \"B\", 150),\n",
        "    (\"Bob\", \"A\", 300)\n",
        "]\n",
        "\n",
        "df = spark.createDataFrame(data, [\"nome\", \"categoria\", \"valor\"])\n",
        "\n",
        "# Realizando o GroupBy usando múltiplos critérios\n",
        "resultado = df.groupBy(\"nome\", \"categoria\") \\\n",
        "    .agg(F.sum(\"valor\").alias(\"total_valor\"))\n",
        "\n",
        "# Exibindo o resultado\n",
        "resultado.show()\n"
      ]
    }
  ]
}