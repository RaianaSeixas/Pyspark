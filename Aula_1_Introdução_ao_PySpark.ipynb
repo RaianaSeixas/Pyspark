{
  "nbformat": 4,
  "nbformat_minor": 0,
  "metadata": {
    "colab": {
      "provenance": [],
      "collapsed_sections": [
        "92KU5Fr7vbFR",
        "heLb6F_4v2N6",
        "1yxBIkGbwD6I"
      ],
      "include_colab_link": true
    },
    "kernelspec": {
      "name": "python3",
      "display_name": "Python 3"
    },
    "language_info": {
      "name": "python"
    }
  },
  "cells": [
    {
      "cell_type": "markdown",
      "metadata": {
        "id": "view-in-github",
        "colab_type": "text"
      },
      "source": [
        "<a href=\"https://colab.research.google.com/github/RaianaSeixas/Pyspark/blob/main/Aula_1_Introdu%C3%A7%C3%A3o_ao_PySpark.ipynb\" target=\"_parent\"><img src=\"https://colab.research.google.com/assets/colab-badge.svg\" alt=\"Open In Colab\"/></a>"
      ]
    },
    {
      "cell_type": "markdown",
      "source": [
        "#**Preparando o ambiente para utilizar o PySpark**"
      ],
      "metadata": {
        "id": "-VYiuYBitT_W"
      }
    },
    {
      "cell_type": "markdown",
      "source": [
        "## **Instalando o Java**"
      ],
      "metadata": {
        "id": "92KU5Fr7vbFR"
      }
    },
    {
      "cell_type": "markdown",
      "source": [
        "O Apache Spark depende de outros sistemas, portanto, antes do Spark é preciso instalar as dependências. Primeiro, deve-se instalar o java"
      ],
      "metadata": {
        "id": "IX_whX7tudF1"
      }
    },
    {
      "cell_type": "code",
      "execution_count": 2,
      "metadata": {
        "id": "CzlKrPTjtG1x"
      },
      "outputs": [],
      "source": [
        "!apt-get install openjdk-8-jdk-headless -qq > /dev/null"
      ]
    },
    {
      "cell_type": "markdown",
      "source": [
        "## **Instalando o Apache Spark**"
      ],
      "metadata": {
        "id": "heLb6F_4v2N6"
      }
    },
    {
      "cell_type": "markdown",
      "source": [
        "Em seguida, é preciso fazer o download do Spark, e, também, do hadoop, pois o Apache Spark roda sob o HDFS, em sua máquina (no caso aqui, na máquina virtual do Google Colab que você está usando."
      ],
      "metadata": {
        "id": "vm1tKyRcu4k_"
      }
    },
    {
      "cell_type": "code",
      "source": [
        "# Fazendo download\n",
        "!wget -q https://archive.apache.org/dist/spark/spark-3.1.2/spark-3.1.2-bin-hadoop2.7.tgz\n",
        "\n",
        "# Descompactando os arquivos\n",
        "!tar xf spark-3.1.2-bin-hadoop2.7.tgz"
      ],
      "metadata": {
        "id": "V_vW2VKRvNee"
      },
      "execution_count": 3,
      "outputs": []
    },
    {
      "cell_type": "markdown",
      "source": [
        "## **Configurando o ambiente**"
      ],
      "metadata": {
        "id": "1yxBIkGbwD6I"
      }
    },
    {
      "cell_type": "markdown",
      "source": [
        "Pronto! Agora precisamos dizer para o sistema onde encontrar o Java e o Spark, que instalamos a pouco neste ambiente."
      ],
      "metadata": {
        "id": "tlAVX6VZwwTl"
      }
    },
    {
      "cell_type": "code",
      "source": [
        "# Importando a biblioteca os\n",
        "import os\n",
        "\n",
        "# Definindo a variável de ambiente do Java\n",
        "os.environ[\"JAVA_HOME\"] = \"/usr/lib/jvm/java-8-openjdk-amd64\"\n",
        "\n",
        "# Definindo a variável de ambiente do Spark\n",
        "os.environ[\"SPARK_HOME\"] = \"/content/spark-3.1.2-bin-hadoop2.7\""
      ],
      "metadata": {
        "id": "wXbSqJX-xtbc"
      },
      "execution_count": 4,
      "outputs": []
    },
    {
      "cell_type": "markdown",
      "source": [
        "A seguir, vamos precisar da biblioteca findspark que vai nos permitir importar pacotes necessários para o funcionamento do pyspark\n",
        "\n"
      ],
      "metadata": {
        "id": "C5mzwT-kyCS_"
      }
    },
    {
      "cell_type": "code",
      "source": [
        "# instalando a findspark\n",
        "!pip install -q findspark"
      ],
      "metadata": {
        "id": "0GuIDF0kvZ4d"
      },
      "execution_count": 5,
      "outputs": []
    },
    {
      "cell_type": "code",
      "source": [
        "#importando a findspark\n",
        "import findspark\n",
        "\n",
        "# iniciando o findspark\n",
        "findspark.init()"
      ],
      "metadata": {
        "id": "t6D_kgUSyBzx"
      },
      "execution_count": 6,
      "outputs": []
    },
    {
      "cell_type": "markdown",
      "source": [
        "## **Primeiros passos no Apache Spark com PySpark**"
      ],
      "metadata": {
        "id": "r9hq49w6wM0E"
      }
    },
    {
      "cell_type": "markdown",
      "source": [
        "Vamos abrir um sessão Spark para poder trabalhar com esta FrameWork."
      ],
      "metadata": {
        "id": "_78SZCzX06ZA"
      }
    },
    {
      "cell_type": "code",
      "source": [
        "# importando o pacote necessário\n",
        "from pyspark.sql import SparkSession\n",
        "\n",
        "# iniciando o spark context\n",
        "spark = SparkSession.builder.getOrCreate()"
      ],
      "metadata": {
        "id": "DcjZI4Hf79f-"
      },
      "execution_count": 7,
      "outputs": []
    },
    {
      "cell_type": "code",
      "source": [
        "from pyspark.sql.functions import *"
      ],
      "metadata": {
        "id": "qDTVSEQP8JA5"
      },
      "execution_count": 22,
      "outputs": []
    },
    {
      "cell_type": "code",
      "source": [
        "schema = [\"employee_name\",\"department\",\"state\",\"salary\",\"age\",\"bonus\"]\n",
        "\n",
        "simpleData = [(\"James\",\"Sales\",\"NY\",90000,34,10000),\n",
        "    (\"Michael\",\"Sales\",\"NY\",86000,56,20000),\n",
        "    (\"Mary\",\"Sales\",\"KS\",96000,60,12000),\n",
        "    (\"Robert\",\"Sales\",\"CA\",81000,30,23000),\n",
        "    (\"Maria\",\"Finance\",\"CA\",90000,24,23000),\n",
        "    (\"Raman\",\"Finance\",\"CA\",99000,40,24000),\n",
        "    (\"Scott\",\"Finance\",\"NY\",83000,36,19000),\n",
        "    (\"Jen\",\"Finance\",\"NY\",79000,53,15000),\n",
        "    (\"Jeff\",\"Marketing\",\"CA\",80000,25,18000),\n",
        "    (\"Kumar\",\"Marketing\",\"NY\",91000,50,21000),\n",
        "    (\"Ana\",\"Marketing\",\"KS\",88000,40,15000),\n",
        "    (\"John\",\"Marketing\",\"KS\",70000,21,21000),\n",
        "    (\"Scarlet\",\"IT\",\"NY\",79000,26,19000),\n",
        "    (\"Kevin\",\"IT\",\"NY\",83000,29,17000),\n",
        "    (\"Jason\",\"IT\",\"CA\",90000,36,20000),\n",
        "  ]\n",
        "\n",
        "df = spark.createDataFrame(data=simpleData, schema = schema)\n",
        "df.printSchema()"
      ],
      "metadata": {
        "colab": {
          "base_uri": "https://localhost:8080/"
        },
        "id": "VaU7adw18RmK",
        "outputId": "01a9734c-decc-400a-e5d0-bb6579c82f6e"
      },
      "execution_count": 63,
      "outputs": [
        {
          "output_type": "stream",
          "name": "stdout",
          "text": [
            "root\n",
            " |-- employee_name: string (nullable = true)\n",
            " |-- department: string (nullable = true)\n",
            " |-- state: string (nullable = true)\n",
            " |-- salary: long (nullable = true)\n",
            " |-- age: long (nullable = true)\n",
            " |-- bonus: long (nullable = true)\n",
            "\n"
          ]
        }
      ]
    },
    {
      "cell_type": "code",
      "source": [
        "df.show()"
      ],
      "metadata": {
        "colab": {
          "base_uri": "https://localhost:8080/"
        },
        "id": "j0H-K-K78cJN",
        "outputId": "5c46f935-93eb-4122-9d99-c301fca5886b"
      },
      "execution_count": 47,
      "outputs": [
        {
          "output_type": "stream",
          "name": "stdout",
          "text": [
            "+-------------+----------+-----+------+---+-----+\n",
            "|employee_name|department|state|salary|age|bonus|\n",
            "+-------------+----------+-----+------+---+-----+\n",
            "|        James|     Sales|   NY| 90000| 34|10000|\n",
            "|      Michael|     Sales|   NY| 86000| 56|20000|\n",
            "|         Mary|     Sales|   KS| 96000| 60|12000|\n",
            "|       Robert|     Sales|   CA| 81000| 30|23000|\n",
            "|        Maria|   Finance|   CA| 90000| 24|23000|\n",
            "|        Raman|   Finance|   CA| 99000| 40|24000|\n",
            "|        Scott|   Finance|   NY| 83000| 36|19000|\n",
            "|          Jen|   Finance|   NY| 79000| 53|15000|\n",
            "|         Jeff| Marketing|   CA| 80000| 25|18000|\n",
            "|        Kumar| Marketing|   NY| 91000| 50|21000|\n",
            "|          Ana| Marketing|   KS| 88000| 40|15000|\n",
            "|         John| Marketing|   KS| 70000| 21|21000|\n",
            "|      Scarlet|        TI|   NY| 79000| 26|19000|\n",
            "|        Kevin|        TI|   NY| 83000| 29|17000|\n",
            "|        Jason|        TI|   CA| 90000| 36|20000|\n",
            "+-------------+----------+-----+------+---+-----+\n",
            "\n"
          ]
        }
      ]
    },
    {
      "cell_type": "code",
      "source": [
        "df.describe().show()"
      ],
      "metadata": {
        "colab": {
          "base_uri": "https://localhost:8080/"
        },
        "id": "w-G9p81xAQ5G",
        "outputId": "ff783cc0-2a75-44dd-88f2-48558680918f"
      },
      "execution_count": 48,
      "outputs": [
        {
          "output_type": "stream",
          "name": "stdout",
          "text": [
            "+-------+-------------+----------+-----+-----------------+------------------+------------------+\n",
            "|summary|employee_name|department|state|           salary|               age|             bonus|\n",
            "+-------+-------------+----------+-----+-----------------+------------------+------------------+\n",
            "|  count|           15|        15|   15|               15|                15|                15|\n",
            "|   mean|         null|      null| null|85666.66666666667|37.333333333333336|18466.666666666668|\n",
            "| stddev|         null|      null| null|7451.430032135408|12.378937564997056|4050.8670441676813|\n",
            "|    min|          Ana|   Finance|   CA|            70000|                21|             10000|\n",
            "|    max|        Scott|        TI|   NY|            99000|                60|             24000|\n",
            "+-------+-------------+----------+-----+-----------------+------------------+------------------+\n",
            "\n"
          ]
        }
      ]
    },
    {
      "cell_type": "code",
      "source": [
        "df.groupBy(\"department\").count().show()"
      ],
      "metadata": {
        "colab": {
          "base_uri": "https://localhost:8080/"
        },
        "id": "cCU9epPX_O-t",
        "outputId": "9fc9b018-748f-4413-82ae-150db3348855"
      },
      "execution_count": 49,
      "outputs": [
        {
          "output_type": "stream",
          "name": "stdout",
          "text": [
            "+----------+-----+\n",
            "|department|count|\n",
            "+----------+-----+\n",
            "|     Sales|    4|\n",
            "|        TI|    3|\n",
            "|   Finance|    4|\n",
            "| Marketing|    4|\n",
            "+----------+-----+\n",
            "\n"
          ]
        }
      ]
    },
    {
      "cell_type": "code",
      "source": [
        "df.groupBy(\"department\").avg(\"salary\").show()"
      ],
      "metadata": {
        "colab": {
          "base_uri": "https://localhost:8080/"
        },
        "id": "MPZxOsmW8d3B",
        "outputId": "38ea65fc-4a05-4610-f810-c79f55a6ed7b"
      },
      "execution_count": 50,
      "outputs": [
        {
          "output_type": "stream",
          "name": "stdout",
          "text": [
            "+----------+-----------+\n",
            "|department|avg(salary)|\n",
            "+----------+-----------+\n",
            "|     Sales|    88250.0|\n",
            "|        TI|    84000.0|\n",
            "|   Finance|    87750.0|\n",
            "| Marketing|    82250.0|\n",
            "+----------+-----------+\n",
            "\n"
          ]
        }
      ]
    },
    {
      "cell_type": "code",
      "source": [
        "df.groupBy(\"department\",\"state\") \\\n",
        "   .sum(\"salary\",\"bonus\") \\\n",
        "   .orderBy(\"department\") \\\n",
        "   .show()"
      ],
      "metadata": {
        "colab": {
          "base_uri": "https://localhost:8080/"
        },
        "id": "LxMeu_5Z97sR",
        "outputId": "5658a931-954a-4c1a-d6b9-fcf73a93ea8f"
      },
      "execution_count": 51,
      "outputs": [
        {
          "output_type": "stream",
          "name": "stdout",
          "text": [
            "+----------+-----+-----------+----------+\n",
            "|department|state|sum(salary)|sum(bonus)|\n",
            "+----------+-----+-----------+----------+\n",
            "|   Finance|   CA|     189000|     47000|\n",
            "|   Finance|   NY|     162000|     34000|\n",
            "| Marketing|   KS|     158000|     36000|\n",
            "| Marketing|   CA|      80000|     18000|\n",
            "| Marketing|   NY|      91000|     21000|\n",
            "|     Sales|   CA|      81000|     23000|\n",
            "|     Sales|   NY|     176000|     30000|\n",
            "|     Sales|   KS|      96000|     12000|\n",
            "|        TI|   NY|     162000|     36000|\n",
            "|        TI|   CA|      90000|     20000|\n",
            "+----------+-----+-----------+----------+\n",
            "\n"
          ]
        }
      ]
    },
    {
      "cell_type": "code",
      "source": [
        "df.groupBy(\"department\") \\\n",
        "    .agg(sum(\"salary\").alias(\"sum_salary\"), \\\n",
        "         avg(\"salary\").alias(\"avg_salary\"), \\\n",
        "         sum(\"bonus\").alias(\"sum_bonus\"), \\\n",
        "         max(\"bonus\").alias(\"max_bonus\") \\\n",
        "     ) \\\n",
        "    .show(truncate=False)"
      ],
      "metadata": {
        "colab": {
          "base_uri": "https://localhost:8080/"
        },
        "id": "CM83W7kv8eGn",
        "outputId": "681d6c37-5e23-42ca-c31d-0412749a680a"
      },
      "execution_count": 52,
      "outputs": [
        {
          "output_type": "stream",
          "name": "stdout",
          "text": [
            "+----------+----------+----------+---------+---------+\n",
            "|department|sum_salary|avg_salary|sum_bonus|max_bonus|\n",
            "+----------+----------+----------+---------+---------+\n",
            "|Sales     |353000    |88250.0   |65000    |23000    |\n",
            "|TI        |252000    |84000.0   |56000    |20000    |\n",
            "|Finance   |351000    |87750.0   |81000    |24000    |\n",
            "|Marketing |329000    |82250.0   |75000    |21000    |\n",
            "+----------+----------+----------+---------+---------+\n",
            "\n"
          ]
        }
      ]
    },
    {
      "cell_type": "code",
      "source": [
        "df.groupBy(\"department\") \\\n",
        "    .agg(sum(\"salary\").alias(\"sum_salary\"), \\\n",
        "      avg(\"salary\").alias(\"avg_salary\"), \\\n",
        "      sum(\"bonus\").alias(\"sum_bonus\"), \\\n",
        "      max(\"bonus\").alias(\"max_bonus\")) \\\n",
        "    .where(col(\"sum_bonus\") >= 50000) \\\n",
        "    .show()"
      ],
      "metadata": {
        "colab": {
          "base_uri": "https://localhost:8080/"
        },
        "id": "S0ek_Swv8eSW",
        "outputId": "d8751a56-7e68-4a3e-9e52-ea16d7aa729b"
      },
      "execution_count": 53,
      "outputs": [
        {
          "output_type": "stream",
          "name": "stdout",
          "text": [
            "+----------+----------+----------+---------+---------+\n",
            "|department|sum_salary|avg_salary|sum_bonus|max_bonus|\n",
            "+----------+----------+----------+---------+---------+\n",
            "|     Sales|    353000|   88250.0|    65000|    23000|\n",
            "|        TI|    252000|   84000.0|    56000|    20000|\n",
            "|   Finance|    351000|   87750.0|    81000|    24000|\n",
            "| Marketing|    329000|   82250.0|    75000|    21000|\n",
            "+----------+----------+----------+---------+---------+\n",
            "\n"
          ]
        }
      ]
    },
    {
      "cell_type": "code",
      "source": [
        "df.groupBy(\"state\") \\\n",
        "  .agg(avg(\"salary\").alias(\"avg_salary\"), \\\n",
        "    avg(\"age\")) \\\n",
        "  .show()"
      ],
      "metadata": {
        "colab": {
          "base_uri": "https://localhost:8080/"
        },
        "id": "yB998O2_FJrM",
        "outputId": "efa8ed09-781d-4896-e350-ba3f6a8ea4a7"
      },
      "execution_count": 57,
      "outputs": [
        {
          "output_type": "stream",
          "name": "stdout",
          "text": [
            "+-----+-----------------+------------------+\n",
            "|state|       avg_salary|          avg(age)|\n",
            "+-----+-----------------+------------------+\n",
            "|   CA|          88000.0|              31.0|\n",
            "|   NY|84428.57142857143| 40.57142857142857|\n",
            "|   KS|84666.66666666667|40.333333333333336|\n",
            "+-----+-----------------+------------------+\n",
            "\n"
          ]
        }
      ]
    },
    {
      "cell_type": "code",
      "source": [
        "df2=df.select(\"*\") \\\n",
        "  .where(col(\"age\") < 40)\n",
        "  \n",
        "df2.show()"
      ],
      "metadata": {
        "colab": {
          "base_uri": "https://localhost:8080/"
        },
        "id": "67PZjFe_FuLI",
        "outputId": "a74f765c-2761-46bc-fa96-2a3547b703b2"
      },
      "execution_count": 82,
      "outputs": [
        {
          "output_type": "stream",
          "name": "stdout",
          "text": [
            "+-------------+----------+-----+------+---+-----+\n",
            "|employee_name|department|state|salary|age|bonus|\n",
            "+-------------+----------+-----+------+---+-----+\n",
            "|        James|     Sales|   NY| 90000| 34|10000|\n",
            "|       Robert|     Sales|   CA| 81000| 30|23000|\n",
            "|        Maria|   Finance|   CA| 90000| 24|23000|\n",
            "|        Scott|   Finance|   NY| 83000| 36|19000|\n",
            "|         Jeff| Marketing|   CA| 80000| 25|18000|\n",
            "|         John| Marketing|   KS| 70000| 21|21000|\n",
            "|      Scarlet|        IT|   NY| 79000| 26|19000|\n",
            "|        Kevin|        IT|   NY| 83000| 29|17000|\n",
            "|        Jason|        IT|   CA| 90000| 36|20000|\n",
            "+-------------+----------+-----+------+---+-----+\n",
            "\n"
          ]
        }
      ]
    },
    {
      "cell_type": "code",
      "source": [
        "df2.agg(avg(col(\"salary\"))).show()"
      ],
      "metadata": {
        "colab": {
          "base_uri": "https://localhost:8080/"
        },
        "id": "-wXyYc4UKvZJ",
        "outputId": "4700023e-d758-4097-cb3c-bd27fd4eff73"
      },
      "execution_count": 85,
      "outputs": [
        {
          "output_type": "stream",
          "name": "stdout",
          "text": [
            "+-----------------+\n",
            "|      avg(salary)|\n",
            "+-----------------+\n",
            "|82888.88888888889|\n",
            "+-----------------+\n",
            "\n"
          ]
        }
      ]
    },
    {
      "cell_type": "code",
      "source": [
        "# Filtre as pessoas que ganham mais de 85 mil e calcule a média de idade dessas pessoas\n",
        "\n",
        "df3 = df.select(\"*\") \\\n",
        "  .where((col(\"salary\") > 85000) & (col(\"bonus\")>=15000))\n",
        "\n",
        "df3.show()\n"
      ],
      "metadata": {
        "colab": {
          "base_uri": "https://localhost:8080/"
        },
        "id": "yXA5aV-8TWEs",
        "outputId": "5d78325e-6e03-4688-8744-8ac1656a318e"
      },
      "execution_count": 91,
      "outputs": [
        {
          "output_type": "stream",
          "name": "stdout",
          "text": [
            "+-------------+----------+-----+------+---+-----+\n",
            "|employee_name|department|state|salary|age|bonus|\n",
            "+-------------+----------+-----+------+---+-----+\n",
            "|      Michael|     Sales|   NY| 86000| 56|20000|\n",
            "|        Maria|   Finance|   CA| 90000| 24|23000|\n",
            "|        Raman|   Finance|   CA| 99000| 40|24000|\n",
            "|        Kumar| Marketing|   NY| 91000| 50|21000|\n",
            "|          Ana| Marketing|   KS| 88000| 40|15000|\n",
            "|        Jason|        IT|   CA| 90000| 36|20000|\n",
            "+-------------+----------+-----+------+---+-----+\n",
            "\n"
          ]
        }
      ]
    },
    {
      "cell_type": "code",
      "source": [
        "# Soma salário mais bonus maior ou igual a 100\n",
        "\n",
        "df.select('*').where((col(\"salary\") + col(\"bonus\") >= 100000)).show()"
      ],
      "metadata": {
        "colab": {
          "base_uri": "https://localhost:8080/"
        },
        "id": "ojL8NmJiUtgE",
        "outputId": "e6c14a46-2475-4754-bca3-7a14312480e2"
      },
      "execution_count": 92,
      "outputs": [
        {
          "output_type": "stream",
          "name": "stdout",
          "text": [
            "+-------------+----------+-----+------+---+-----+\n",
            "|employee_name|department|state|salary|age|bonus|\n",
            "+-------------+----------+-----+------+---+-----+\n",
            "|        James|     Sales|   NY| 90000| 34|10000|\n",
            "|      Michael|     Sales|   NY| 86000| 56|20000|\n",
            "|         Mary|     Sales|   KS| 96000| 60|12000|\n",
            "|       Robert|     Sales|   CA| 81000| 30|23000|\n",
            "|        Maria|   Finance|   CA| 90000| 24|23000|\n",
            "|        Raman|   Finance|   CA| 99000| 40|24000|\n",
            "|        Scott|   Finance|   NY| 83000| 36|19000|\n",
            "|        Kumar| Marketing|   NY| 91000| 50|21000|\n",
            "|          Ana| Marketing|   KS| 88000| 40|15000|\n",
            "|        Kevin|        IT|   NY| 83000| 29|17000|\n",
            "|        Jason|        IT|   CA| 90000| 36|20000|\n",
            "+-------------+----------+-----+------+---+-----+\n",
            "\n"
          ]
        }
      ]
    },
    {
      "cell_type": "code",
      "source": [
        "# Calcule a média de salários das pessoas que moram em NY ou CA\n",
        "\n",
        "df.select('*').where((col('state') == 'CA') | (col('state') == 'NY')) \\\n",
        "  .agg(avg(col('salary'))) \\\n",
        "  .show()"
      ],
      "metadata": {
        "colab": {
          "base_uri": "https://localhost:8080/"
        },
        "id": "1F91qGIpWwBF",
        "outputId": "f53f75ec-91f0-40b6-cb80-55d6d13c9ad5"
      },
      "execution_count": 95,
      "outputs": [
        {
          "output_type": "stream",
          "name": "stdout",
          "text": [
            "+-----------------+\n",
            "|      avg(salary)|\n",
            "+-----------------+\n",
            "|85916.66666666667|\n",
            "+-----------------+\n",
            "\n"
          ]
        }
      ]
    },
    {
      "cell_type": "code",
      "source": [],
      "metadata": {
        "id": "zETVRTy9YfmZ"
      },
      "execution_count": null,
      "outputs": []
    }
  ]
}